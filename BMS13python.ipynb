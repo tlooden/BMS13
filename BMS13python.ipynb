{
  "nbformat": 4,
  "nbformat_minor": 0,
  "metadata": {
    "colab": {
      "provenance": [],
      "authorship_tag": "ABX9TyOxPejnYgaeK9Rl5uNB//uA",
      "include_colab_link": true
    },
    "kernelspec": {
      "name": "python3",
      "display_name": "Python 3"
    },
    "language_info": {
      "name": "python"
    }
  },
  "cells": [
    {
      "cell_type": "markdown",
      "metadata": {
        "id": "view-in-github",
        "colab_type": "text"
      },
      "source": [
        "<a href=\"https://colab.research.google.com/github/tlooden/BMS13/blob/main/BMS13python.ipynb\" target=\"_parent\"><img src=\"https://colab.research.google.com/assets/colab-badge.svg\" alt=\"Open In Colab\"/></a>"
      ]
    },
    {
      "cell_type": "markdown",
      "source": [
        "Material for introduction to python for BMS-13. \n",
        "\n",
        "Author: Tristan Looden"
      ],
      "metadata": {
        "id": "Gq71M98fbgQ4"
      }
    },
    {
      "cell_type": "code",
      "execution_count": null,
      "metadata": {
        "id": "QvBiJHj53WT8"
      },
      "outputs": [],
      "source": [
        "# Commenting in python can be done using the hastag\n",
        "\n",
        "import numpy as np\n",
        "import matplotlib.pyplot as plt\n"
      ]
    },
    {
      "cell_type": "code",
      "source": [
        "# define a one-dimensional array of numbers (ie, a vector)\n",
        "\n",
        "some_numbers = [1,2,3,4]\n",
        "\n",
        "\n",
        "some_vector = np.array(some_numbers)\n",
        "\n",
        "\n",
        "print(some_vector)"
      ],
      "metadata": {
        "id": "hf3BHToc31cu",
        "colab": {
          "base_uri": "https://localhost:8080/"
        },
        "outputId": "fc4e9636-7df2-4d16-d4d9-cfa71cfd6924"
      },
      "execution_count": null,
      "outputs": [
        {
          "output_type": "stream",
          "name": "stdout",
          "text": [
            "[[1 2 3 4]]\n"
          ]
        }
      ]
    },
    {
      "cell_type": "code",
      "source": [
        "# define a two-dimensional array of numbers (ie, a matrix)\n",
        "\n",
        "some_matrix = np.array([ [1,2] ,[3,4] ])\n",
        "\n",
        "print(some_matrix)"
      ],
      "metadata": {
        "colab": {
          "base_uri": "https://localhost:8080/"
        },
        "id": "meI-17V3Zo68",
        "outputId": "2f4bb4aa-7a96-4e01-8cf1-f239b5df7fa0"
      },
      "execution_count": null,
      "outputs": [
        {
          "output_type": "stream",
          "name": "stdout",
          "text": [
            "[[1 2]\n",
            " [3 4]]\n"
          ]
        }
      ]
    },
    {
      "cell_type": "code",
      "source": [
        "b= np.array([1,2])\n",
        "\n",
        "result = b*some_matrix\n",
        "\n",
        "print(result)"
      ],
      "metadata": {
        "colab": {
          "base_uri": "https://localhost:8080/"
        },
        "id": "hF70VqfcZpFm",
        "outputId": "b9249d05-be46-4d69-e9ab-236ecdf69eb7"
      },
      "execution_count": null,
      "outputs": [
        {
          "output_type": "stream",
          "name": "stdout",
          "text": [
            "[[ 7 10]]\n"
          ]
        }
      ]
    },
    {
      "cell_type": "code",
      "source": [
        "for i in some_number:\n",
        "  print(i)"
      ],
      "metadata": {
        "colab": {
          "base_uri": "https://localhost:8080/"
        },
        "id": "jtnK0IZsax9c",
        "outputId": "24871c24-128a-47d5-a263-300455fc0e3f"
      },
      "execution_count": null,
      "outputs": [
        {
          "output_type": "stream",
          "name": "stdout",
          "text": [
            "1\n",
            "2\n"
          ]
        }
      ]
    },
    {
      "cell_type": "code",
      "source": [
        "def my_sum(A):\n",
        "  out = np.sum(A)\n",
        "  return out"
      ],
      "metadata": {
        "id": "QDWtsqldayKg"
      },
      "execution_count": null,
      "outputs": []
    },
    {
      "cell_type": "code",
      "source": [
        "result = my_sum(some_matrix)\n",
        "\n",
        "print(result)"
      ],
      "metadata": {
        "colab": {
          "base_uri": "https://localhost:8080/"
        },
        "id": "ovJuGbJAeg8F",
        "outputId": "65c73df7-1cd7-4a3e-d926-60392fccf221"
      },
      "execution_count": null,
      "outputs": [
        {
          "output_type": "stream",
          "name": "stdout",
          "text": [
            "10\n"
          ]
        }
      ]
    }
  ]
}